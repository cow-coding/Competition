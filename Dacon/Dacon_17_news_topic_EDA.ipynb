{
  "nbformat": 4,
  "nbformat_minor": 0,
  "metadata": {
    "accelerator": "GPU",
    "colab": {
      "name": "Dacon 17 - news topic 4.ipynb",
      "provenance": [],
      "mount_file_id": "1w-p9V4ovIFqVwQfpc3Tx2LdKE5Zr6X0T",
      "authorship_tag": "ABX9TyME2GvSHXS+if3KISzcmAgM",
      "include_colab_link": true
    },
    "kernelspec": {
      "display_name": "Python 3",
      "name": "python3"
    },
    "language_info": {
      "name": "python"
    }
  },
  "cells": [
    {
      "cell_type": "markdown",
      "metadata": {
        "id": "view-in-github",
        "colab_type": "text"
      },
      "source": [
        "<a href=\"https://colab.research.google.com/github/cow-coding/Competition/blob/main/Dacon/Dacon_17_news_topic_EDA.ipynb\" target=\"_parent\"><img src=\"https://colab.research.google.com/assets/colab-badge.svg\" alt=\"Open In Colab\"/></a>"
      ]
    },
    {
      "cell_type": "code",
      "metadata": {
        "id": "0cTJ70noGXsD"
      },
      "source": [
        "!pip install konlpy\n",
        "!pip install soynlp"
      ],
      "execution_count": null,
      "outputs": []
    },
    {
      "cell_type": "code",
      "metadata": {
        "id": "7knOCNFnGj0F"
      },
      "source": [
        "!git clone https://github.com/SOMJANG/Mecab-ko-for-Google-Colab.git\n",
        "%cd Mecab-ko-for-Google-Colab\n",
        "!bash install_mecab-ko_on_colab190912.sh"
      ],
      "execution_count": null,
      "outputs": []
    },
    {
      "cell_type": "code",
      "metadata": {
        "id": "h6w6WhW7GpmQ"
      },
      "source": [
        "import numpy as np\n",
        "import pandas as pd\n",
        "import matplotlib.pyplot as plt\n",
        "import seaborn as sns\n",
        "import konlpy\n",
        "import soynlp\n",
        "import re\n",
        "from soynlp.word import WordExtractor\n",
        "from konlpy.tag import Mecab, Okt\n",
        "import warnings"
      ],
      "execution_count": null,
      "outputs": []
    },
    {
      "cell_type": "code",
      "metadata": {
        "id": "6_upxMPGIw8r"
      },
      "source": [
        "path = '/content/drive/MyDrive/news/'\n",
        "\n",
        "train = pd.read_csv(path+'train_data.csv')\n",
        "test = pd.read_csv(path+'test_data.csv')\n",
        "topic_dict = pd.read_csv(path+'topic_dict.csv').to_dict()['topic']"
      ],
      "execution_count": null,
      "outputs": []
    },
    {
      "cell_type": "code",
      "metadata": {
        "colab": {
          "base_uri": "https://localhost:8080/",
          "height": 204
        },
        "id": "Lz_GSrM8I7Be",
        "outputId": "806d93fd-f1ee-4511-c33c-612d60238f7c"
      },
      "source": [
        "train.head()"
      ],
      "execution_count": null,
      "outputs": [
        {
          "output_type": "execute_result",
          "data": {
            "text/html": [
              "<div>\n",
              "<style scoped>\n",
              "    .dataframe tbody tr th:only-of-type {\n",
              "        vertical-align: middle;\n",
              "    }\n",
              "\n",
              "    .dataframe tbody tr th {\n",
              "        vertical-align: top;\n",
              "    }\n",
              "\n",
              "    .dataframe thead th {\n",
              "        text-align: right;\n",
              "    }\n",
              "</style>\n",
              "<table border=\"1\" class=\"dataframe\">\n",
              "  <thead>\n",
              "    <tr style=\"text-align: right;\">\n",
              "      <th></th>\n",
              "      <th>index</th>\n",
              "      <th>title</th>\n",
              "      <th>topic_idx</th>\n",
              "    </tr>\n",
              "  </thead>\n",
              "  <tbody>\n",
              "    <tr>\n",
              "      <th>0</th>\n",
              "      <td>0</td>\n",
              "      <td>인천→핀란드 항공기 결항…휴가철 여행객 분통</td>\n",
              "      <td>4</td>\n",
              "    </tr>\n",
              "    <tr>\n",
              "      <th>1</th>\n",
              "      <td>1</td>\n",
              "      <td>실리콘밸리 넘어서겠다…구글 15조원 들여 美전역 거점화</td>\n",
              "      <td>4</td>\n",
              "    </tr>\n",
              "    <tr>\n",
              "      <th>2</th>\n",
              "      <td>2</td>\n",
              "      <td>이란 외무 긴장완화 해결책은 미국이 경제전쟁 멈추는 것</td>\n",
              "      <td>4</td>\n",
              "    </tr>\n",
              "    <tr>\n",
              "      <th>3</th>\n",
              "      <td>3</td>\n",
              "      <td>NYT 클린턴 측근韓기업 특수관계 조명…공과 사 맞물려종합</td>\n",
              "      <td>4</td>\n",
              "    </tr>\n",
              "    <tr>\n",
              "      <th>4</th>\n",
              "      <td>4</td>\n",
              "      <td>시진핑 트럼프에 중미 무역협상 조속 타결 희망</td>\n",
              "      <td>4</td>\n",
              "    </tr>\n",
              "  </tbody>\n",
              "</table>\n",
              "</div>"
            ],
            "text/plain": [
              "   index                             title  topic_idx\n",
              "0      0          인천→핀란드 항공기 결항…휴가철 여행객 분통          4\n",
              "1      1    실리콘밸리 넘어서겠다…구글 15조원 들여 美전역 거점화          4\n",
              "2      2    이란 외무 긴장완화 해결책은 미국이 경제전쟁 멈추는 것          4\n",
              "3      3  NYT 클린턴 측근韓기업 특수관계 조명…공과 사 맞물려종합          4\n",
              "4      4         시진핑 트럼프에 중미 무역협상 조속 타결 희망          4"
            ]
          },
          "metadata": {
            "tags": []
          },
          "execution_count": 5
        }
      ]
    },
    {
      "cell_type": "code",
      "metadata": {
        "colab": {
          "base_uri": "https://localhost:8080/",
          "height": 204
        },
        "id": "41LFgxoLI8J6",
        "outputId": "6de8e1aa-2624-4451-a7fa-894b9119297a"
      },
      "source": [
        "test.head()"
      ],
      "execution_count": null,
      "outputs": [
        {
          "output_type": "execute_result",
          "data": {
            "text/html": [
              "<div>\n",
              "<style scoped>\n",
              "    .dataframe tbody tr th:only-of-type {\n",
              "        vertical-align: middle;\n",
              "    }\n",
              "\n",
              "    .dataframe tbody tr th {\n",
              "        vertical-align: top;\n",
              "    }\n",
              "\n",
              "    .dataframe thead th {\n",
              "        text-align: right;\n",
              "    }\n",
              "</style>\n",
              "<table border=\"1\" class=\"dataframe\">\n",
              "  <thead>\n",
              "    <tr style=\"text-align: right;\">\n",
              "      <th></th>\n",
              "      <th>index</th>\n",
              "      <th>title</th>\n",
              "    </tr>\n",
              "  </thead>\n",
              "  <tbody>\n",
              "    <tr>\n",
              "      <th>0</th>\n",
              "      <td>45654</td>\n",
              "      <td>유튜브 내달 2일까지 크리에이터 지원 공간 운영</td>\n",
              "    </tr>\n",
              "    <tr>\n",
              "      <th>1</th>\n",
              "      <td>45655</td>\n",
              "      <td>어버이날 맑다가 흐려져…남부지방 옅은 황사</td>\n",
              "    </tr>\n",
              "    <tr>\n",
              "      <th>2</th>\n",
              "      <td>45656</td>\n",
              "      <td>내년부터 국가RD 평가 때 논문건수는 반영 않는다</td>\n",
              "    </tr>\n",
              "    <tr>\n",
              "      <th>3</th>\n",
              "      <td>45657</td>\n",
              "      <td>김명자 신임 과총 회장 원로와 젊은 과학자 지혜 모을 것</td>\n",
              "    </tr>\n",
              "    <tr>\n",
              "      <th>4</th>\n",
              "      <td>45658</td>\n",
              "      <td>회색인간 작가 김동식 양심고백 등 새 소설집 2권 출간</td>\n",
              "    </tr>\n",
              "  </tbody>\n",
              "</table>\n",
              "</div>"
            ],
            "text/plain": [
              "   index                            title\n",
              "0  45654       유튜브 내달 2일까지 크리에이터 지원 공간 운영\n",
              "1  45655          어버이날 맑다가 흐려져…남부지방 옅은 황사\n",
              "2  45656      내년부터 국가RD 평가 때 논문건수는 반영 않는다\n",
              "3  45657  김명자 신임 과총 회장 원로와 젊은 과학자 지혜 모을 것\n",
              "4  45658   회색인간 작가 김동식 양심고백 등 새 소설집 2권 출간"
            ]
          },
          "metadata": {
            "tags": []
          },
          "execution_count": 6
        }
      ]
    },
    {
      "cell_type": "code",
      "metadata": {
        "colab": {
          "base_uri": "https://localhost:8080/"
        },
        "id": "MNAAytG_I8wk",
        "outputId": "af4cb27b-43ef-489e-e9f6-8e4ba154231b"
      },
      "source": [
        "topic_dict"
      ],
      "execution_count": null,
      "outputs": [
        {
          "output_type": "execute_result",
          "data": {
            "text/plain": [
              "{0: 'IT과학', 1: '경제', 2: '사회', 3: '생활문화', 4: '세계', 5: '스포츠', 6: '정치'}"
            ]
          },
          "metadata": {
            "tags": []
          },
          "execution_count": 7
        }
      ]
    },
    {
      "cell_type": "markdown",
      "metadata": {
        "id": "cGiYkE3JKPjt"
      },
      "source": [
        "우선 클래스 불균형을 확인하고자 클래스 분포를 확인해보겠습니다."
      ]
    },
    {
      "cell_type": "code",
      "metadata": {
        "colab": {
          "base_uri": "https://localhost:8080/",
          "height": 463
        },
        "id": "fA-dGgNyKTVj",
        "outputId": "004b4d37-0637-4a30-f2ad-4d8d736ad237"
      },
      "source": [
        "plt.figure(figsize=(12, 7))\n",
        "sns.countplot(data=train, x='topic_idx')\n",
        "plt.ylabel('Counts', fontsize=12)\n",
        "plt.xlabel('Topic index', fontsize=12)\n",
        "plt.title('Distribution of Topic Index', fontsize=15)\n",
        "plt.show()"
      ],
      "execution_count": null,
      "outputs": [
        {
          "output_type": "display_data",
          "data": {
            "image/png": "[encoded data removed]",
            "text/plain": [
              "<Figure size 864x504 with 1 Axes>"
            ]
          },
          "metadata": {
            "tags": [],
            "needs_background": "light"
          }
        }
      ]
    },
    {
      "cell_type": "markdown",
      "metadata": {
        "id": "Zg1uSqfaKzWu"
      },
      "source": [
        "클래스 별로 크게 불균형이 있는 것 같지는 않습니다.  \n",
        "\n",
        "이번에는 각 주제별로 제목을 5개 정도씩 뽑아서 특징을 분석해보겠습니다."
      ]
    },
    {
      "cell_type": "code",
      "metadata": {
        "colab": {
          "base_uri": "https://localhost:8080/"
        },
        "id": "pLF97osMJNdf",
        "outputId": "d01a454b-53ce-4878-bdf6-75e99acfd394"
      },
      "source": [
        "grouped_df = train.groupby('topic_idx')\n",
        "\n",
        "for name, group in grouped_df:\n",
        "    print(f'Topic name : {topic_dict[name]}')\n",
        "    cnt = 0\n",
        "\n",
        "    for idx, row in group.iterrows():\n",
        "        print(row['title'])\n",
        "        cnt += 1\n",
        "\n",
        "        if cnt == 5:\n",
        "            break\n",
        "\n",
        "    print('\\n')"
      ],
      "execution_count": null,
      "outputs": [
        {
          "output_type": "stream",
          "text": [
            "Topic name : IT과학\n",
            "지카바이러스도 규명한 초저온전자현미경…신약연구에 유용\n",
            "증강현실 ① 알파고 이어 포켓몬 고…거센 IT 광풍\n",
            "AI 월드컵 생생한 현장 중계도\n",
            "이세돌 알파고 집중력 사람이 이기긴 어렵다 일문일답종합2보\n",
            "올해 휴대폰 국내 생산량 2천500만대…10년전의 18.4%\n",
            "\n",
            "\n",
            "Topic name : 경제\n",
            "못믿을 아파트 관리비…경기 556곳서 150억 비리 적발종합\n",
            "특징주 관리종목 해제 대우조선해양 강세\n",
            "특징주 강원랜드 실적 부진에 급락종합\n",
            "라면 수출 질주…올해 4억달러 첫 돌파 확실시\n",
            "경기지표 부진 골드만삭스 한은 금리인상 예상시기 7→10월로종합\n",
            "\n",
            "\n",
            "Topic name : 사회\n",
            "드라마 제작환경 개선 촉구\n",
            "창원세계사격대회장서 경남 시·군 관광 세계에 알린다종합\n",
            "조배숙 중앙위 정례회의 주재\n",
            "인천공항→송도 택시요금 12만원…바가지 택시·콜밴\n",
            "조용중 전 연합뉴스 사장 별세\n",
            "\n",
            "\n",
            "Topic name : 생활문화\n",
            "황석영 작가 미국 문학축제서 한국문학 알린다\n",
            "휴일 불청객 울산 미세먼지 주의보 발령\n",
            "김수영 신임 한국출판문화산업진흥원장\n",
            "신간 한반도평화 오디세이\n",
            "2019 가극 금강 낭독공연 간담회\n",
            "\n",
            "\n",
            "Topic name : 세계\n",
            "인천→핀란드 항공기 결항…휴가철 여행객 분통\n",
            "실리콘밸리 넘어서겠다…구글 15조원 들여 美전역 거점화\n",
            "이란 외무 긴장완화 해결책은 미국이 경제전쟁 멈추는 것\n",
            "NYT 클린턴 측근韓기업 특수관계 조명…공과 사 맞물려종합\n",
            "시진핑 트럼프에 중미 무역협상 조속 타결 희망\n",
            "\n",
            "\n",
            "Topic name : 스포츠\n",
            "박찬호 현진이 10승 하니깐 생각이 나는데…\n",
            "고군분투 시즌 서재덕 MVP 덕큐리로 활짝 웃다종합\n",
            "임도헌 감독 신영석 중심으로 똘똘 뭉쳐 한일전 승리 따냈다\n",
            "데얀·김치우 OUT 조영욱 IN…서울 과감한 재건 성과...\n",
            "호날두 노쇼 유벤투스 무책임·거만 비판 수용 어려워\n",
            "\n",
            "\n",
            "Topic name : 정치\n",
            "김영남 우리 민족 위상 과시…뜨거운 분위기 이어가길\n",
            "적극행정 추진전략 및 성과공유대회 참석한 이낙연 총리\n",
            "朴대통령 한일 합의에 소녀상 언급없어…선동하면 안돼\n",
            "민주 국회의원 재보선 4곳 후보 공모에 7명 신청\n",
            "현행 헌법과 다른 점은 ②지방자치·경제민주화 개념 강화\n",
            "\n",
            "\n"
          ],
          "name": "stdout"
        }
      ]
    },
    {
      "cell_type": "markdown",
      "metadata": {
        "id": "mqYuUG9RLUY3"
      },
      "source": [
        "몇가지 주제별 특징적인 것들이 보입니다. 그리고 뉴스 본문과는 다르게 제목의 특성상 명사들이 자주 등장하는 것을 볼 수 있습니다. 추가적으로 확인해봐야 할 것을 보면 특수문자를 상당히 많이 사용하는 것 같습니다. 특수문자들이 어떤 종류가 있는지 확인해봐야할 것 같습니다.  \n",
        "우선 특수문자의 종류를 확인해보겠습니다."
      ]
    },
    {
      "cell_type": "code",
      "metadata": {
        "id": "vWgvki0dOzmV"
      },
      "source": [
        "# 한글, 영어, 숫자, 한자, 띄어쓰기를 제외한 특수문자만 추출\n",
        "special = train.title.apply(lambda x: set(re.findall('[^가-힣0-9a-zA-Z一-龥\\u2e80-\\u2eff\\u31c0-\\u31ef\\u3200-\\u32ff\\u3400-\\u4dbf\\u4e00-\\u9fbf\\uf900-\\ufaff\\ ]', x)))\n",
        "specials = []\n",
        "\n",
        "for idx, item in special.items():\n",
        "    for mark in item:\n",
        "        if mark not in specials:\n",
        "            specials.append(mark)"
      ],
      "execution_count": null,
      "outputs": []
    },
    {
      "cell_type": "code",
      "metadata": {
        "id": "VFQ-hwc6TQdl"
      },
      "source": [
        "specials"
      ],
      "execution_count": null,
      "outputs": []
    },
    {
      "cell_type": "markdown",
      "metadata": {
        "id": "VS798yfcO1f1"
      },
      "source": [
        "이번에는 주제별 일부 데이터들의 명사들만 추출해서 확인해보겠습니다."
      ]
    },
    {
      "cell_type": "code",
      "metadata": {
        "id": "NMcFRx0MJhi2"
      },
      "source": [
        "mecab = Mecab()"
      ],
      "execution_count": null,
      "outputs": []
    },
    {
      "cell_type": "code",
      "metadata": {
        "colab": {
          "base_uri": "https://localhost:8080/"
        },
        "id": "xJMv4KGDL892",
        "outputId": "c8df231b-40c0-4254-d3b5-f2aff670a92b"
      },
      "source": [
        "grouped_df = train.groupby('topic_idx')\n",
        "\n",
        "for name, group in grouped_df:\n",
        "    print(f'Topic name : {topic_dict[name]}')\n",
        "    cnt = 0\n",
        "\n",
        "    for idx, row in group.iterrows():\n",
        "        print(mecab.nouns(row['title']))\n",
        "        cnt += 1\n",
        "\n",
        "        if cnt == 5:\n",
        "            break\n",
        "\n",
        "    print('\\n')"
      ],
      "execution_count": null,
      "outputs": [
        {
          "output_type": "stream",
          "text": [
            "Topic name : IT과학\n",
            "['지카', '바이러스', '규명', '초저', '전자', '현미경', '신약', '연구', '유용']\n",
            "['증강현실', '알파', '포켓', '광풍']\n",
            "['월드컵', '현장', '중계']\n",
            "['이세돌', '알파', '집중력', '사람', '일문일답', '종합', '보']\n",
            "['올해', '휴대폰', '국내', '생산량', '천', '만', '대', '년', '전']\n",
            "\n",
            "\n",
            "Topic name : 경제\n",
            "['아파트', '관리비', '경기', '곳', '억', '비리', '적발', '종합']\n",
            "['특징', '주', '관리', '종목', '해제', '대우', '조선', '해양', '강세']\n",
            "['특징', '주', '강원랜드', '실적', '부진', '급락', '종합']\n",
            "['라면', '수출', '질주', '올해', '억', '달러', '돌파', '확실시']\n",
            "['경기', '지표', '부진', '골드만', '삭스', '한', '금리', '인상', '예상', '시기', '월', '종합']\n",
            "\n",
            "\n",
            "Topic name : 사회\n",
            "['드라마', '제작', '환경', '개선', '촉구']\n",
            "['창원', '세계', '사격', '대회장', '경남', '시', '군', '관광', '세계', '종합']\n",
            "['조배숙', '중앙', '위', '정례회', '주재']\n",
            "['인천', '공항', '송도', '택시', '요금', '만', '원', '바가지', '택시', '콜밴']\n",
            "['조용중', '연합뉴스', '사장', '별세']\n",
            "\n",
            "\n",
            "Topic name : 생활문화\n",
            "['황석영', '작가', '미국', '문학', '축제', '한국', '문학']\n",
            "['휴일', '불청객', '울산', '미세먼지', '주의보', '발령']\n",
            "['김수영', '신임', '한국', '출판문화', '산업', '진흥', '원장']\n",
            "['신간', '한반도', '평화', '오디세이']\n",
            "['가극', '금강', '낭독', '공연', '간담회']\n",
            "\n",
            "\n",
            "Topic name : 세계\n",
            "['인천', '핀란드', '항공기', '결항', '휴가철', '여행객', '분통']\n",
            "['실리콘밸리', '구글', '조', '원', '美', '전역', '거점']\n",
            "['이란', '외무', '긴장', '완화', '해결책', '미국', '경제', '전쟁', '것']\n",
            "['클린턴', '측근', '韓', '기업', '특수', '관계', '조명', '공과', '종합']\n",
            "['시진핑', '트럼프', '중미', '무역', '협상', '조속', '타결', '희망']\n",
            "\n",
            "\n",
            "Topic name : 스포츠\n",
            "['박찬호', '현진', '승', '생각']\n",
            "['고군분투', '시즌', '서재덕', '덕', '큐리', '종합']\n",
            "['임도헌', '감독', '신영석', '중심', '한일전', '승리']\n",
            "['데얀', '김치우', '조영욱', '서울', '재건', '성과']\n",
            "['호날두', '노', '쇼', '유', '벤', '투스', '책임', '비판', '수용']\n",
            "\n",
            "\n",
            "Topic name : 정치\n",
            "['김영남', '우리', '민족', '위상', '과시', '분위기']\n",
            "['적극', '행정', '추진', '전략', '성과', '공유', '대회', '참석', '이낙연', '총리']\n",
            "['朴', '대통령', '일', '합의', '소녀', '언급', '선동']\n",
            "['민주', '국회의원', '보선', '곳', '후보', '공모', '명', '신청']\n",
            "['현행', '헌법', '점', '지방', '자치', '경제', '민주', '개념', '강화']\n",
            "\n",
            "\n"
          ],
          "name": "stdout"
        }
      ]
    },
    {
      "cell_type": "markdown",
      "metadata": {
        "id": "qUnOjf52MR3U"
      },
      "source": [
        "음... 어느정도 특징들이 보이기는 합니다. 근데 일부 문제가 발생을 한 것 같습니다.  \n",
        "뉴스의 제목은 때로는 신조어를 쓰기도 한다는 것이죠.  \n",
        "'스포츠' 부분의 마지막 정보를 보면 '노쇼'와 '유벤투스'를 분리해서 판단하는 것을 볼 수 있습니다.  \n",
        "실제 '유벤투스'는 스포츠에 전적으로 어울리는 단어기 때문에 중요한 단어가 될 수 있습니다.  \n",
        "\n",
        "이럴때 사용하기 좋은 것이 sonlpy입니다."
      ]
    },
    {
      "cell_type": "code",
      "metadata": {
        "colab": {
          "base_uri": "https://localhost:8080/"
        },
        "id": "duP2DNy2MDAE",
        "outputId": "6ef8c73e-7e29-4f0e-c75a-4788c10d5596"
      },
      "source": [
        "word_extractor = WordExtractor()\n",
        "word_extractor.train(train.title.values)\n",
        "word_score = word_extractor.extract()"
      ],
      "execution_count": null,
      "outputs": [
        {
          "output_type": "stream",
          "text": [
            "training was done. used memory 0.456 Gb\n",
            "all cohesion probabilities was computed. # words = 27733\n",
            "all branching entropies was computed # words = 40514\n",
            "all accessor variety was computed # words = 40514\n"
          ],
          "name": "stdout"
        }
      ]
    },
    {
      "cell_type": "code",
      "metadata": {
        "id": "68hhTFGeNquM"
      },
      "source": [
        "from soynlp.tokenizer import MaxScoreTokenizer, LTokenizer"
      ],
      "execution_count": null,
      "outputs": []
    },
    {
      "cell_type": "code",
      "metadata": {
        "id": "ZIVquJ7MNwad"
      },
      "source": [
        "scores = {word:score.cohesion_forward for word, score in word_score.items()}\n",
        "\n",
        "l_tokenizer = LTokenizer(scores=scores)\n",
        "max_tokenizer = MaxScoreTokenizer(scores=scores)"
      ],
      "execution_count": null,
      "outputs": []
    },
    {
      "cell_type": "code",
      "metadata": {
        "colab": {
          "base_uri": "https://localhost:8080/"
        },
        "id": "S7IuZiSBWZpq",
        "outputId": "c87b8413-32b5-4dd3-b7f1-187f495816d2"
      },
      "source": [
        "grouped_df = train.groupby('topic_idx')\n",
        "\n",
        "for name, group in grouped_df:\n",
        "    print(f'Topic name : {topic_dict[name]}')\n",
        "    cnt = 0\n",
        "\n",
        "    for idx, row in group.iterrows():\n",
        "        print(l_tokenizer.tokenize(row['title']))\n",
        "        cnt += 1\n",
        "\n",
        "        if cnt == 5:\n",
        "            break\n",
        "\n",
        "    print('\\n')"
      ],
      "execution_count": null,
      "outputs": [
        {
          "output_type": "stream",
          "text": [
            "Topic name : IT과학\n",
            "['지카바이러스', '도', '규명', '한', '초저온전자현미경…신약연구에', '유용']\n",
            "['증강현실', '①', '알파고', '이어', '포켓몬', '고…거센', 'IT', '광풍']\n",
            "['AI', '월드컵', '생생한', '현장', '중계도']\n",
            "['이세돌', '알파고', '집중', '력', '사람이', '이기긴', '어렵다', '일문일답', '종합2보']\n",
            "['올해', '휴대폰', '국내', '생산', '량', '2천500', '만대…10년전의', '18.4%']\n",
            "\n",
            "\n",
            "Topic name : 경제\n",
            "['못믿을', '아파트', '관리', '비…경기', '556곳서', '150억', '비리', '적발', '종합']\n",
            "['특징주', '관리종목', '해제', '대우조선해양', '강세']\n",
            "['특징주', '강원', '랜드', '실적', '부진에', '급락종합']\n",
            "['라면', '수출', '질주', '…올해', '4억달러', '첫', '돌파', '확실시']\n",
            "['경기', '지표', '부진', '골드', '만삭스', '한은', '금리인상', '예상', '시기', '7→10월로종합']\n",
            "\n",
            "\n",
            "Topic name : 사회\n",
            "['드라마', '제작환경', '개선', '촉구']\n",
            "['창원', '세계사격대회장서', '경남', '시·군', '관광', '세계', '에', '알린다', '종합']\n",
            "['조배숙', '중앙위', '정례회의', '주재']\n",
            "['인천공항', '→송도', '택시', '요금', '12', '만원…바가지', '택시', '·콜밴']\n",
            "['조용중', '전', '연합뉴스', '사장', '별세']\n",
            "\n",
            "\n",
            "Topic name : 생활문화\n",
            "['황석영', '작가', '미국', '문학', '축제서', '한국', '문학', '알린다']\n",
            "['휴일', '불청객', '울산', '미세먼지', '주의보', '발령']\n",
            "['김수영', '신임', '한국', '출판문화산업진흥원장']\n",
            "['신간', '한반도평화', '오디세이']\n",
            "['201', '9', '가극', '금강', '낭독공연', '간담회']\n",
            "\n",
            "\n",
            "Topic name : 세계\n",
            "['인천', '→핀란드', '항공', '기', '결항…휴가철', '여행', '객', '분통']\n",
            "['실리콘밸리', '넘어', '서겠다…구글', '15', '조원', '들여', '美전역', '거점화']\n",
            "['이란', '외무', '긴장', '완화', '해결', '책은', '미국', '이', '경제', '전쟁', '멈추', '는', '것']\n",
            "['NYT', '클린턴', '측근', '韓기업', '특수', '관계', '조명…공과', '사', '맞물려종합']\n",
            "['시진핑', '트럼프', '에', '중미', '무역협상', '조속', '타결', '희망']\n",
            "\n",
            "\n",
            "Topic name : 스포츠\n",
            "['박찬호', '현진이', '10', '승', '하니깐', '생각', '이', '나는데…']\n",
            "['고군분투', '시즌', '서재덕', 'MVP', '덕큐리로', '활짝', '웃다종합']\n",
            "['임도헌', '감독', '신영석', '중심으로', '똘똘', '뭉쳐', '한일전', '승리', '따냈다']\n",
            "['데얀·김치우', 'OUT', '조영욱', 'IN…서울', '과감한', '재건', '성과', '...']\n",
            "['호날두', '노쇼', '유벤투스', '무책임', '·거만', '비판', '수용', '어려워']\n",
            "\n",
            "\n",
            "Topic name : 정치\n",
            "['김영남', '우리', '민족', '위상', '과시…', '뜨거운', '분위기', '이어가길']\n",
            "['적극행정', '추진', '전략', '및', '성과', '공유대회', '참석', '한', '이낙연', '총리']\n",
            "['朴대통령', '한일', '합의', '에', '소녀상', '언급', '없어…선동하면', '안돼']\n",
            "['민주', '국회의원', '재보선', '4곳', '후보', '공모', '에', '7명', '신청']\n",
            "['현행', '헌법', '과', '다른', '점은', '②지방자치·경제민주화', '개념', '강화']\n",
            "\n",
            "\n"
          ],
          "name": "stdout"
        }
      ]
    },
    {
      "cell_type": "markdown",
      "metadata": {
        "id": "q9EfCXDdXTI1"
      },
      "source": [
        "이제 보면 중간중간 특수문자들이 단어를 구분하는 걸 방해하는 것을 볼 수 있습니다.  \n",
        "\n",
        "이제 특수문자들을 제거해줍시다"
      ]
    },
    {
      "cell_type": "code",
      "metadata": {
        "colab": {
          "base_uri": "https://localhost:8080/",
          "height": 204
        },
        "id": "ZZ5uk8ZlWdsG",
        "outputId": "caf1bb8d-df65-4c57-c0e0-2f1d047c2c0f"
      },
      "source": [
        "tmp = []\n",
        "\n",
        "for item in train.title:\n",
        "    for special in specials:\n",
        "        if special in item:\n",
        "            item = item.replace(special, ' ')\n",
        "\n",
        "    tmp.append(item)\n",
        "\n",
        "train['pre'] = tmp\n",
        "\n",
        "train.head()"
      ],
      "execution_count": null,
      "outputs": [
        {
          "output_type": "execute_result",
          "data": {
            "text/html": [
              "<div>\n",
              "<style scoped>\n",
              "    .dataframe tbody tr th:only-of-type {\n",
              "        vertical-align: middle;\n",
              "    }\n",
              "\n",
              "    .dataframe tbody tr th {\n",
              "        vertical-align: top;\n",
              "    }\n",
              "\n",
              "    .dataframe thead th {\n",
              "        text-align: right;\n",
              "    }\n",
              "</style>\n",
              "<table border=\"1\" class=\"dataframe\">\n",
              "  <thead>\n",
              "    <tr style=\"text-align: right;\">\n",
              "      <th></th>\n",
              "      <th>index</th>\n",
              "      <th>title</th>\n",
              "      <th>topic_idx</th>\n",
              "      <th>pre</th>\n",
              "    </tr>\n",
              "  </thead>\n",
              "  <tbody>\n",
              "    <tr>\n",
              "      <th>0</th>\n",
              "      <td>0</td>\n",
              "      <td>인천→핀란드 항공기 결항…휴가철 여행객 분통</td>\n",
              "      <td>4</td>\n",
              "      <td>인천 핀란드 항공기 결항 휴가철 여행객 분통</td>\n",
              "    </tr>\n",
              "    <tr>\n",
              "      <th>1</th>\n",
              "      <td>1</td>\n",
              "      <td>실리콘밸리 넘어서겠다…구글 15조원 들여 美전역 거점화</td>\n",
              "      <td>4</td>\n",
              "      <td>실리콘밸리 넘어서겠다 구글 15조원 들여 美전역 거점화</td>\n",
              "    </tr>\n",
              "    <tr>\n",
              "      <th>2</th>\n",
              "      <td>2</td>\n",
              "      <td>이란 외무 긴장완화 해결책은 미국이 경제전쟁 멈추는 것</td>\n",
              "      <td>4</td>\n",
              "      <td>이란 외무 긴장완화 해결책은 미국이 경제전쟁 멈추는 것</td>\n",
              "    </tr>\n",
              "    <tr>\n",
              "      <th>3</th>\n",
              "      <td>3</td>\n",
              "      <td>NYT 클린턴 측근韓기업 특수관계 조명…공과 사 맞물려종합</td>\n",
              "      <td>4</td>\n",
              "      <td>NYT 클린턴 측근韓기업 특수관계 조명 공과 사 맞물려종합</td>\n",
              "    </tr>\n",
              "    <tr>\n",
              "      <th>4</th>\n",
              "      <td>4</td>\n",
              "      <td>시진핑 트럼프에 중미 무역협상 조속 타결 희망</td>\n",
              "      <td>4</td>\n",
              "      <td>시진핑 트럼프에 중미 무역협상 조속 타결 희망</td>\n",
              "    </tr>\n",
              "  </tbody>\n",
              "</table>\n",
              "</div>"
            ],
            "text/plain": [
              "   index  ...                               pre\n",
              "0      0  ...          인천 핀란드 항공기 결항 휴가철 여행객 분통\n",
              "1      1  ...    실리콘밸리 넘어서겠다 구글 15조원 들여 美전역 거점화\n",
              "2      2  ...    이란 외무 긴장완화 해결책은 미국이 경제전쟁 멈추는 것\n",
              "3      3  ...  NYT 클린턴 측근韓기업 특수관계 조명 공과 사 맞물려종합\n",
              "4      4  ...         시진핑 트럼프에 중미 무역협상 조속 타결 희망\n",
              "\n",
              "[5 rows x 4 columns]"
            ]
          },
          "metadata": {
            "tags": []
          },
          "execution_count": 18
        }
      ]
    },
    {
      "cell_type": "code",
      "metadata": {
        "colab": {
          "base_uri": "https://localhost:8080/",
          "height": 204
        },
        "id": "WQljl47Gf2Yv",
        "outputId": "3d9790ee-e499-4fa2-e2f8-139f83d4f679"
      },
      "source": [
        "tmp = []\n",
        "\n",
        "for item in test.title:\n",
        "    for special in specials:\n",
        "        if special in item:\n",
        "            item = item.replace(special, ' ')\n",
        "\n",
        "    tmp.append(item)\n",
        "\n",
        "test['pre'] = tmp\n",
        "\n",
        "test.head()"
      ],
      "execution_count": null,
      "outputs": [
        {
          "output_type": "execute_result",
          "data": {
            "text/html": [
              "<div>\n",
              "<style scoped>\n",
              "    .dataframe tbody tr th:only-of-type {\n",
              "        vertical-align: middle;\n",
              "    }\n",
              "\n",
              "    .dataframe tbody tr th {\n",
              "        vertical-align: top;\n",
              "    }\n",
              "\n",
              "    .dataframe thead th {\n",
              "        text-align: right;\n",
              "    }\n",
              "</style>\n",
              "<table border=\"1\" class=\"dataframe\">\n",
              "  <thead>\n",
              "    <tr style=\"text-align: right;\">\n",
              "      <th></th>\n",
              "      <th>index</th>\n",
              "      <th>title</th>\n",
              "      <th>pre</th>\n",
              "    </tr>\n",
              "  </thead>\n",
              "  <tbody>\n",
              "    <tr>\n",
              "      <th>0</th>\n",
              "      <td>45654</td>\n",
              "      <td>유튜브 내달 2일까지 크리에이터 지원 공간 운영</td>\n",
              "      <td>유튜브 내달 2일까지 크리에이터 지원 공간 운영</td>\n",
              "    </tr>\n",
              "    <tr>\n",
              "      <th>1</th>\n",
              "      <td>45655</td>\n",
              "      <td>어버이날 맑다가 흐려져…남부지방 옅은 황사</td>\n",
              "      <td>어버이날 맑다가 흐려져 남부지방 옅은 황사</td>\n",
              "    </tr>\n",
              "    <tr>\n",
              "      <th>2</th>\n",
              "      <td>45656</td>\n",
              "      <td>내년부터 국가RD 평가 때 논문건수는 반영 않는다</td>\n",
              "      <td>내년부터 국가RD 평가 때 논문건수는 반영 않는다</td>\n",
              "    </tr>\n",
              "    <tr>\n",
              "      <th>3</th>\n",
              "      <td>45657</td>\n",
              "      <td>김명자 신임 과총 회장 원로와 젊은 과학자 지혜 모을 것</td>\n",
              "      <td>김명자 신임 과총 회장 원로와 젊은 과학자 지혜 모을 것</td>\n",
              "    </tr>\n",
              "    <tr>\n",
              "      <th>4</th>\n",
              "      <td>45658</td>\n",
              "      <td>회색인간 작가 김동식 양심고백 등 새 소설집 2권 출간</td>\n",
              "      <td>회색인간 작가 김동식 양심고백 등 새 소설집 2권 출간</td>\n",
              "    </tr>\n",
              "  </tbody>\n",
              "</table>\n",
              "</div>"
            ],
            "text/plain": [
              "   index                            title                              pre\n",
              "0  45654       유튜브 내달 2일까지 크리에이터 지원 공간 운영       유튜브 내달 2일까지 크리에이터 지원 공간 운영\n",
              "1  45655          어버이날 맑다가 흐려져…남부지방 옅은 황사          어버이날 맑다가 흐려져 남부지방 옅은 황사\n",
              "2  45656      내년부터 국가RD 평가 때 논문건수는 반영 않는다      내년부터 국가RD 평가 때 논문건수는 반영 않는다\n",
              "3  45657  김명자 신임 과총 회장 원로와 젊은 과학자 지혜 모을 것  김명자 신임 과총 회장 원로와 젊은 과학자 지혜 모을 것\n",
              "4  45658   회색인간 작가 김동식 양심고백 등 새 소설집 2권 출간   회색인간 작가 김동식 양심고백 등 새 소설집 2권 출간"
            ]
          },
          "metadata": {
            "tags": []
          },
          "execution_count": 19
        }
      ]
    },
    {
      "cell_type": "markdown",
      "metadata": {
        "id": "Kl5h9TYMaOyh"
      },
      "source": [
        "특수문자를 제거하고 다시 토큰화를 해봅시다"
      ]
    },
    {
      "cell_type": "code",
      "metadata": {
        "colab": {
          "base_uri": "https://localhost:8080/"
        },
        "id": "zdfSYYrHaOlu",
        "outputId": "7aeb54c8-e8d8-4b31-c82c-a89d62859d06"
      },
      "source": [
        "grouped_df = train.groupby('topic_idx')\n",
        "\n",
        "for name, group in grouped_df:\n",
        "    print(f'Topic name : {topic_dict[name]}')\n",
        "    cnt = 0\n",
        "\n",
        "    for idx, row in group.iterrows():\n",
        "        print(l_tokenizer.tokenize(row['pre']))\n",
        "        cnt += 1\n",
        "\n",
        "        if cnt == 5:\n",
        "            break\n",
        "\n",
        "    print('\\n')"
      ],
      "execution_count": null,
      "outputs": [
        {
          "output_type": "stream",
          "text": [
            "Topic name : IT과학\n",
            "['지카바이러스', '도', '규명', '한', '초저온전자현미경', '신약연구에', '유용']\n",
            "['증강현실', '알파고', '이어', '포켓몬', '고', '거센', 'IT', '광풍']\n",
            "['AI', '월드컵', '생생한', '현장', '중계도']\n",
            "['이세돌', '알파고', '집중', '력', '사람이', '이기긴', '어렵다', '일문일답', '종합2보']\n",
            "['올해', '휴대폰', '국내', '생산', '량', '2천500', '만대', '10', '년전의', '18', '4']\n",
            "\n",
            "\n",
            "Topic name : 경제\n",
            "['못믿을', '아파트', '관리', '비', '경기', '556곳서', '150억', '비리', '적발', '종합']\n",
            "['특징주', '관리종목', '해제', '대우조선해양', '강세']\n",
            "['특징주', '강원', '랜드', '실적', '부진에', '급락종합']\n",
            "['라면', '수출', '질주', '올해', '4억달러', '첫', '돌파', '확실시']\n",
            "['경기', '지표', '부진', '골드', '만삭스', '한은', '금리인상', '예상', '시기', '7', '10', '월로종합']\n",
            "\n",
            "\n",
            "Topic name : 사회\n",
            "['드라마', '제작환경', '개선', '촉구']\n",
            "['창원', '세계사격대회장서', '경남', '시', '군', '관광', '세계', '에', '알린다', '종합']\n",
            "['조배숙', '중앙위', '정례회의', '주재']\n",
            "['인천공항', '송도', '택시', '요금', '12', '만원', '바가지', '택시', '콜밴']\n",
            "['조용중', '전', '연합뉴스', '사장', '별세']\n",
            "\n",
            "\n",
            "Topic name : 생활문화\n",
            "['황석영', '작가', '미국', '문학', '축제서', '한국', '문학', '알린다']\n",
            "['휴일', '불청객', '울산', '미세먼지', '주의보', '발령']\n",
            "['김수영', '신임', '한국', '출판문화산업진흥원장']\n",
            "['신간', '한반도평화', '오디세이']\n",
            "['201', '9', '가극', '금강', '낭독공연', '간담회']\n",
            "\n",
            "\n",
            "Topic name : 세계\n",
            "['인천', '핀란드', '항공', '기', '결항', '휴가철', '여행', '객', '분통']\n",
            "['실리콘밸리', '넘어', '서겠다', '구글', '15', '조원', '들여', '美전역', '거점화']\n",
            "['이란', '외무', '긴장', '완화', '해결', '책은', '미국', '이', '경제', '전쟁', '멈추', '는', '것']\n",
            "['NYT', '클린턴', '측근', '韓기업', '특수', '관계', '조명', '공과', '사', '맞물려종합']\n",
            "['시진핑', '트럼프', '에', '중미', '무역협상', '조속', '타결', '희망']\n",
            "\n",
            "\n",
            "Topic name : 스포츠\n",
            "['박찬호', '현진이', '10', '승', '하니깐', '생각', '이', '나는데']\n",
            "['고군분투', '시즌', '서재덕', 'MVP', '덕큐리로', '활짝', '웃다종합']\n",
            "['임도헌', '감독', '신영석', '중심으로', '똘똘', '뭉쳐', '한일전', '승리', '따냈다']\n",
            "['데얀', '김치우', 'OUT', '조영욱', 'IN', '서울', '과감한', '재건', '성과']\n",
            "['호날두', '노쇼', '유벤투스', '무책임', '거만', '비판', '수용', '어려워']\n",
            "\n",
            "\n",
            "Topic name : 정치\n",
            "['김영남', '우리', '민족', '위상', '과시', '뜨거운', '분위기', '이어가길']\n",
            "['적극행정', '추진', '전략', '및', '성과', '공유대회', '참석', '한', '이낙연', '총리']\n",
            "['朴대통령', '한일', '합의', '에', '소녀상', '언급', '없어', '선동하면', '안돼']\n",
            "['민주', '국회의원', '재보선', '4곳', '후보', '공모', '에', '7명', '신청']\n",
            "['현행', '헌법', '과', '다른', '점은', '지방자치', '경제민주화', '개념', '강화']\n",
            "\n",
            "\n"
          ],
          "name": "stdout"
        }
      ]
    },
    {
      "cell_type": "markdown",
      "metadata": {
        "id": "0ksowUUvafU9"
      },
      "source": [
        "이제 조사와 같은 불용어를 제거하겠습니다. 한국어 불용어는 따로 데이터가 없는 걸로 압니다.  \n",
        "\n",
        "따라서 만들어진 불용어 사전을 사용하겠습니다."
      ]
    },
    {
      "cell_type": "code",
      "metadata": {
        "colab": {
          "base_uri": "https://localhost:8080/",
          "height": 204
        },
        "id": "IfI3g3KtbmQJ",
        "outputId": "65e0a2c2-7188-4459-bdd5-31d4ac947ef2"
      },
      "source": [
        "train['tokenize'] = train['pre'].apply(lambda x: l_tokenizer.tokenize(x))\n",
        "train.head()"
      ],
      "execution_count": null,
      "outputs": [
        {
          "output_type": "execute_result",
          "data": {
            "text/html": [
              "<div>\n",
              "<style scoped>\n",
              "    .dataframe tbody tr th:only-of-type {\n",
              "        vertical-align: middle;\n",
              "    }\n",
              "\n",
              "    .dataframe tbody tr th {\n",
              "        vertical-align: top;\n",
              "    }\n",
              "\n",
              "    .dataframe thead th {\n",
              "        text-align: right;\n",
              "    }\n",
              "</style>\n",
              "<table border=\"1\" class=\"dataframe\">\n",
              "  <thead>\n",
              "    <tr style=\"text-align: right;\">\n",
              "      <th></th>\n",
              "      <th>index</th>\n",
              "      <th>title</th>\n",
              "      <th>topic_idx</th>\n",
              "      <th>pre</th>\n",
              "      <th>tokenize</th>\n",
              "    </tr>\n",
              "  </thead>\n",
              "  <tbody>\n",
              "    <tr>\n",
              "      <th>0</th>\n",
              "      <td>0</td>\n",
              "      <td>인천→핀란드 항공기 결항…휴가철 여행객 분통</td>\n",
              "      <td>4</td>\n",
              "      <td>인천 핀란드 항공기 결항 휴가철 여행객 분통</td>\n",
              "      <td>[인천, 핀란드, 항공, 기, 결항, 휴가철, 여행, 객, 분통]</td>\n",
              "    </tr>\n",
              "    <tr>\n",
              "      <th>1</th>\n",
              "      <td>1</td>\n",
              "      <td>실리콘밸리 넘어서겠다…구글 15조원 들여 美전역 거점화</td>\n",
              "      <td>4</td>\n",
              "      <td>실리콘밸리 넘어서겠다 구글 15조원 들여 美전역 거점화</td>\n",
              "      <td>[실리콘밸리, 넘어, 서겠다, 구글, 15, 조원, 들여, 美전역, 거점화]</td>\n",
              "    </tr>\n",
              "    <tr>\n",
              "      <th>2</th>\n",
              "      <td>2</td>\n",
              "      <td>이란 외무 긴장완화 해결책은 미국이 경제전쟁 멈추는 것</td>\n",
              "      <td>4</td>\n",
              "      <td>이란 외무 긴장완화 해결책은 미국이 경제전쟁 멈추는 것</td>\n",
              "      <td>[이란, 외무, 긴장, 완화, 해결, 책은, 미국, 이, 경제, 전쟁, 멈추, 는, 것]</td>\n",
              "    </tr>\n",
              "    <tr>\n",
              "      <th>3</th>\n",
              "      <td>3</td>\n",
              "      <td>NYT 클린턴 측근韓기업 특수관계 조명…공과 사 맞물려종합</td>\n",
              "      <td>4</td>\n",
              "      <td>NYT 클린턴 측근韓기업 특수관계 조명 공과 사 맞물려종합</td>\n",
              "      <td>[NYT, 클린턴, 측근, 韓기업, 특수, 관계, 조명, 공과, 사, 맞물려종합]</td>\n",
              "    </tr>\n",
              "    <tr>\n",
              "      <th>4</th>\n",
              "      <td>4</td>\n",
              "      <td>시진핑 트럼프에 중미 무역협상 조속 타결 희망</td>\n",
              "      <td>4</td>\n",
              "      <td>시진핑 트럼프에 중미 무역협상 조속 타결 희망</td>\n",
              "      <td>[시진핑, 트럼프, 에, 중미, 무역협상, 조속, 타결, 희망]</td>\n",
              "    </tr>\n",
              "  </tbody>\n",
              "</table>\n",
              "</div>"
            ],
            "text/plain": [
              "   index  ...                                           tokenize\n",
              "0      0  ...               [인천, 핀란드, 항공, 기, 결항, 휴가철, 여행, 객, 분통]\n",
              "1      1  ...         [실리콘밸리, 넘어, 서겠다, 구글, 15, 조원, 들여, 美전역, 거점화]\n",
              "2      2  ...  [이란, 외무, 긴장, 완화, 해결, 책은, 미국, 이, 경제, 전쟁, 멈추, 는, 것]\n",
              "3      3  ...      [NYT, 클린턴, 측근, 韓기업, 특수, 관계, 조명, 공과, 사, 맞물려종합]\n",
              "4      4  ...                [시진핑, 트럼프, 에, 중미, 무역협상, 조속, 타결, 희망]\n",
              "\n",
              "[5 rows x 5 columns]"
            ]
          },
          "metadata": {
            "tags": []
          },
          "execution_count": 21
        }
      ]
    },
    {
      "cell_type": "code",
      "metadata": {
        "colab": {
          "base_uri": "https://localhost:8080/",
          "height": 204
        },
        "id": "2IN9bxRdf9OT",
        "outputId": "ffeedd9c-3b70-4f0a-cb98-0fe4abf409fa"
      },
      "source": [
        "test['tokenize'] = test['pre'].apply(lambda x: l_tokenizer.tokenize(x))\n",
        "test.head()"
      ],
      "execution_count": null,
      "outputs": [
        {
          "output_type": "execute_result",
          "data": {
            "text/html": [
              "<div>\n",
              "<style scoped>\n",
              "    .dataframe tbody tr th:only-of-type {\n",
              "        vertical-align: middle;\n",
              "    }\n",
              "\n",
              "    .dataframe tbody tr th {\n",
              "        vertical-align: top;\n",
              "    }\n",
              "\n",
              "    .dataframe thead th {\n",
              "        text-align: right;\n",
              "    }\n",
              "</style>\n",
              "<table border=\"1\" class=\"dataframe\">\n",
              "  <thead>\n",
              "    <tr style=\"text-align: right;\">\n",
              "      <th></th>\n",
              "      <th>index</th>\n",
              "      <th>title</th>\n",
              "      <th>pre</th>\n",
              "      <th>tokenize</th>\n",
              "    </tr>\n",
              "  </thead>\n",
              "  <tbody>\n",
              "    <tr>\n",
              "      <th>0</th>\n",
              "      <td>45654</td>\n",
              "      <td>유튜브 내달 2일까지 크리에이터 지원 공간 운영</td>\n",
              "      <td>유튜브 내달 2일까지 크리에이터 지원 공간 운영</td>\n",
              "      <td>[유튜브, 내달, 2일까지, 크리, 에이터, 지원, 공간, 운영]</td>\n",
              "    </tr>\n",
              "    <tr>\n",
              "      <th>1</th>\n",
              "      <td>45655</td>\n",
              "      <td>어버이날 맑다가 흐려져…남부지방 옅은 황사</td>\n",
              "      <td>어버이날 맑다가 흐려져 남부지방 옅은 황사</td>\n",
              "      <td>[어버이날, 맑다가, 흐려, 져, 남부지방, 옅은, 황사]</td>\n",
              "    </tr>\n",
              "    <tr>\n",
              "      <th>2</th>\n",
              "      <td>45656</td>\n",
              "      <td>내년부터 국가RD 평가 때 논문건수는 반영 않는다</td>\n",
              "      <td>내년부터 국가RD 평가 때 논문건수는 반영 않는다</td>\n",
              "      <td>[내년부터, 국가, RD, 평가, 때, 논문건수는, 반영, 않는다]</td>\n",
              "    </tr>\n",
              "    <tr>\n",
              "      <th>3</th>\n",
              "      <td>45657</td>\n",
              "      <td>김명자 신임 과총 회장 원로와 젊은 과학자 지혜 모을 것</td>\n",
              "      <td>김명자 신임 과총 회장 원로와 젊은 과학자 지혜 모을 것</td>\n",
              "      <td>[김명자, 신임, 과총, 회장, 원로와, 젊은, 과학, 자, 지혜, 모을, 것]</td>\n",
              "    </tr>\n",
              "    <tr>\n",
              "      <th>4</th>\n",
              "      <td>45658</td>\n",
              "      <td>회색인간 작가 김동식 양심고백 등 새 소설집 2권 출간</td>\n",
              "      <td>회색인간 작가 김동식 양심고백 등 새 소설집 2권 출간</td>\n",
              "      <td>[회색인간, 작가, 김동식, 양심고백, 등, 새, 소설집, 2권, 출간]</td>\n",
              "    </tr>\n",
              "  </tbody>\n",
              "</table>\n",
              "</div>"
            ],
            "text/plain": [
              "   index  ...                                      tokenize\n",
              "0  45654  ...          [유튜브, 내달, 2일까지, 크리, 에이터, 지원, 공간, 운영]\n",
              "1  45655  ...              [어버이날, 맑다가, 흐려, 져, 남부지방, 옅은, 황사]\n",
              "2  45656  ...         [내년부터, 국가, RD, 평가, 때, 논문건수는, 반영, 않는다]\n",
              "3  45657  ...  [김명자, 신임, 과총, 회장, 원로와, 젊은, 과학, 자, 지혜, 모을, 것]\n",
              "4  45658  ...      [회색인간, 작가, 김동식, 양심고백, 등, 새, 소설집, 2권, 출간]\n",
              "\n",
              "[5 rows x 4 columns]"
            ]
          },
          "metadata": {
            "tags": []
          },
          "execution_count": 22
        }
      ]
    },
    {
      "cell_type": "code",
      "metadata": {
        "colab": {
          "base_uri": "https://localhost:8080/"
        },
        "id": "6H9Dx1jkZGY8",
        "outputId": "50c60c86-04ab-4d5b-87b7-7fa6b6b8ac61"
      },
      "source": [
        "stopwords = open(path+'stop_kor.txt').read().split()\n",
        "len(stopwords)"
      ],
      "execution_count": null,
      "outputs": [
        {
          "output_type": "execute_result",
          "data": {
            "text/plain": [
              "888"
            ]
          },
          "metadata": {
            "tags": []
          },
          "execution_count": 23
        }
      ]
    },
    {
      "cell_type": "code",
      "metadata": {
        "id": "expqAzq2azFj"
      },
      "source": [
        "def remove_stopwords(text):\n",
        "    return [word for word in data if word not in stopwords]"
      ],
      "execution_count": null,
      "outputs": []
    },
    {
      "cell_type": "code",
      "metadata": {
        "colab": {
          "base_uri": "https://localhost:8080/",
          "height": 289
        },
        "id": "11UWJcWbbgvS",
        "outputId": "77fe9e11-d50e-4b43-d836-1510979faeb1"
      },
      "source": [
        "xtrain_clean = []\n",
        "\n",
        "for data in train['tokenize']:\n",
        "    xtrain_clean.append(remove_stopwords(data))\n",
        "\n",
        "train['clean'] = xtrain_clean\n",
        "train.head()"
      ],
      "execution_count": null,
      "outputs": [
        {
          "output_type": "execute_result",
          "data": {
            "text/html": [
              "<div>\n",
              "<style scoped>\n",
              "    .dataframe tbody tr th:only-of-type {\n",
              "        vertical-align: middle;\n",
              "    }\n",
              "\n",
              "    .dataframe tbody tr th {\n",
              "        vertical-align: top;\n",
              "    }\n",
              "\n",
              "    .dataframe thead th {\n",
              "        text-align: right;\n",
              "    }\n",
              "</style>\n",
              "<table border=\"1\" class=\"dataframe\">\n",
              "  <thead>\n",
              "    <tr style=\"text-align: right;\">\n",
              "      <th></th>\n",
              "      <th>index</th>\n",
              "      <th>title</th>\n",
              "      <th>topic_idx</th>\n",
              "      <th>pre</th>\n",
              "      <th>tokenize</th>\n",
              "      <th>clean</th>\n",
              "    </tr>\n",
              "  </thead>\n",
              "  <tbody>\n",
              "    <tr>\n",
              "      <th>0</th>\n",
              "      <td>0</td>\n",
              "      <td>인천→핀란드 항공기 결항…휴가철 여행객 분통</td>\n",
              "      <td>4</td>\n",
              "      <td>인천 핀란드 항공기 결항 휴가철 여행객 분통</td>\n",
              "      <td>[인천, 핀란드, 항공, 기, 결항, 휴가철, 여행, 객, 분통]</td>\n",
              "      <td>[인천, 핀란드, 항공, 기, 결항, 휴가철, 여행, 객, 분통]</td>\n",
              "    </tr>\n",
              "    <tr>\n",
              "      <th>1</th>\n",
              "      <td>1</td>\n",
              "      <td>실리콘밸리 넘어서겠다…구글 15조원 들여 美전역 거점화</td>\n",
              "      <td>4</td>\n",
              "      <td>실리콘밸리 넘어서겠다 구글 15조원 들여 美전역 거점화</td>\n",
              "      <td>[실리콘밸리, 넘어, 서겠다, 구글, 15, 조원, 들여, 美전역, 거점화]</td>\n",
              "      <td>[실리콘밸리, 넘어, 서겠다, 구글, 15, 조원, 들여, 美전역, 거점화]</td>\n",
              "    </tr>\n",
              "    <tr>\n",
              "      <th>2</th>\n",
              "      <td>2</td>\n",
              "      <td>이란 외무 긴장완화 해결책은 미국이 경제전쟁 멈추는 것</td>\n",
              "      <td>4</td>\n",
              "      <td>이란 외무 긴장완화 해결책은 미국이 경제전쟁 멈추는 것</td>\n",
              "      <td>[이란, 외무, 긴장, 완화, 해결, 책은, 미국, 이, 경제, 전쟁, 멈추, 는, 것]</td>\n",
              "      <td>[이란, 외무, 긴장, 완화, 해결, 책은, 미국, 경제, 전쟁, 멈추, 는]</td>\n",
              "    </tr>\n",
              "    <tr>\n",
              "      <th>3</th>\n",
              "      <td>3</td>\n",
              "      <td>NYT 클린턴 측근韓기업 특수관계 조명…공과 사 맞물려종합</td>\n",
              "      <td>4</td>\n",
              "      <td>NYT 클린턴 측근韓기업 특수관계 조명 공과 사 맞물려종합</td>\n",
              "      <td>[NYT, 클린턴, 측근, 韓기업, 특수, 관계, 조명, 공과, 사, 맞물려종합]</td>\n",
              "      <td>[NYT, 클린턴, 측근, 韓기업, 특수, 관계, 조명, 공과, 맞물려종합]</td>\n",
              "    </tr>\n",
              "    <tr>\n",
              "      <th>4</th>\n",
              "      <td>4</td>\n",
              "      <td>시진핑 트럼프에 중미 무역협상 조속 타결 희망</td>\n",
              "      <td>4</td>\n",
              "      <td>시진핑 트럼프에 중미 무역협상 조속 타결 희망</td>\n",
              "      <td>[시진핑, 트럼프, 에, 중미, 무역협상, 조속, 타결, 희망]</td>\n",
              "      <td>[시진핑, 트럼프, 중미, 무역협상, 조속, 타결, 희망]</td>\n",
              "    </tr>\n",
              "  </tbody>\n",
              "</table>\n",
              "</div>"
            ],
            "text/plain": [
              "   index  ...                                        clean\n",
              "0      0  ...         [인천, 핀란드, 항공, 기, 결항, 휴가철, 여행, 객, 분통]\n",
              "1      1  ...   [실리콘밸리, 넘어, 서겠다, 구글, 15, 조원, 들여, 美전역, 거점화]\n",
              "2      2  ...  [이란, 외무, 긴장, 완화, 해결, 책은, 미국, 경제, 전쟁, 멈추, 는]\n",
              "3      3  ...   [NYT, 클린턴, 측근, 韓기업, 특수, 관계, 조명, 공과, 맞물려종합]\n",
              "4      4  ...             [시진핑, 트럼프, 중미, 무역협상, 조속, 타결, 희망]\n",
              "\n",
              "[5 rows x 6 columns]"
            ]
          },
          "metadata": {
            "tags": []
          },
          "execution_count": 25
        }
      ]
    },
    {
      "cell_type": "code",
      "metadata": {
        "colab": {
          "base_uri": "https://localhost:8080/",
          "height": 272
        },
        "id": "Wx-9HSMCgBRa",
        "outputId": "c97c29c2-0a66-49cc-8670-6f7ee5359d95"
      },
      "source": [
        "xtest_clean = []\n",
        "\n",
        "for data in test['tokenize']:\n",
        "    xtest_clean.append(remove_stopwords(data))\n",
        "\n",
        "test['clean'] = xtest_clean\n",
        "test.head()"
      ],
      "execution_count": null,
      "outputs": [
        {
          "output_type": "execute_result",
          "data": {
            "text/html": [
              "<div>\n",
              "<style scoped>\n",
              "    .dataframe tbody tr th:only-of-type {\n",
              "        vertical-align: middle;\n",
              "    }\n",
              "\n",
              "    .dataframe tbody tr th {\n",
              "        vertical-align: top;\n",
              "    }\n",
              "\n",
              "    .dataframe thead th {\n",
              "        text-align: right;\n",
              "    }\n",
              "</style>\n",
              "<table border=\"1\" class=\"dataframe\">\n",
              "  <thead>\n",
              "    <tr style=\"text-align: right;\">\n",
              "      <th></th>\n",
              "      <th>index</th>\n",
              "      <th>title</th>\n",
              "      <th>pre</th>\n",
              "      <th>tokenize</th>\n",
              "      <th>clean</th>\n",
              "    </tr>\n",
              "  </thead>\n",
              "  <tbody>\n",
              "    <tr>\n",
              "      <th>0</th>\n",
              "      <td>45654</td>\n",
              "      <td>유튜브 내달 2일까지 크리에이터 지원 공간 운영</td>\n",
              "      <td>유튜브 내달 2일까지 크리에이터 지원 공간 운영</td>\n",
              "      <td>[유튜브, 내달, 2일까지, 크리, 에이터, 지원, 공간, 운영]</td>\n",
              "      <td>[유튜브, 내달, 2일까지, 크리, 에이터, 지원, 공간, 운영]</td>\n",
              "    </tr>\n",
              "    <tr>\n",
              "      <th>1</th>\n",
              "      <td>45655</td>\n",
              "      <td>어버이날 맑다가 흐려져…남부지방 옅은 황사</td>\n",
              "      <td>어버이날 맑다가 흐려져 남부지방 옅은 황사</td>\n",
              "      <td>[어버이날, 맑다가, 흐려, 져, 남부지방, 옅은, 황사]</td>\n",
              "      <td>[어버이날, 맑다가, 흐려, 져, 남부지방, 옅은, 황사]</td>\n",
              "    </tr>\n",
              "    <tr>\n",
              "      <th>2</th>\n",
              "      <td>45656</td>\n",
              "      <td>내년부터 국가RD 평가 때 논문건수는 반영 않는다</td>\n",
              "      <td>내년부터 국가RD 평가 때 논문건수는 반영 않는다</td>\n",
              "      <td>[내년부터, 국가, RD, 평가, 때, 논문건수는, 반영, 않는다]</td>\n",
              "      <td>[내년부터, 국가, RD, 평가, 논문건수는, 반영, 않는다]</td>\n",
              "    </tr>\n",
              "    <tr>\n",
              "      <th>3</th>\n",
              "      <td>45657</td>\n",
              "      <td>김명자 신임 과총 회장 원로와 젊은 과학자 지혜 모을 것</td>\n",
              "      <td>김명자 신임 과총 회장 원로와 젊은 과학자 지혜 모을 것</td>\n",
              "      <td>[김명자, 신임, 과총, 회장, 원로와, 젊은, 과학, 자, 지혜, 모을, 것]</td>\n",
              "      <td>[김명자, 신임, 과총, 회장, 원로와, 젊은, 과학, 지혜, 모을]</td>\n",
              "    </tr>\n",
              "    <tr>\n",
              "      <th>4</th>\n",
              "      <td>45658</td>\n",
              "      <td>회색인간 작가 김동식 양심고백 등 새 소설집 2권 출간</td>\n",
              "      <td>회색인간 작가 김동식 양심고백 등 새 소설집 2권 출간</td>\n",
              "      <td>[회색인간, 작가, 김동식, 양심고백, 등, 새, 소설집, 2권, 출간]</td>\n",
              "      <td>[회색인간, 작가, 김동식, 양심고백, 새, 소설집, 2권, 출간]</td>\n",
              "    </tr>\n",
              "  </tbody>\n",
              "</table>\n",
              "</div>"
            ],
            "text/plain": [
              "   index  ...                                   clean\n",
              "0  45654  ...    [유튜브, 내달, 2일까지, 크리, 에이터, 지원, 공간, 운영]\n",
              "1  45655  ...        [어버이날, 맑다가, 흐려, 져, 남부지방, 옅은, 황사]\n",
              "2  45656  ...      [내년부터, 국가, RD, 평가, 논문건수는, 반영, 않는다]\n",
              "3  45657  ...  [김명자, 신임, 과총, 회장, 원로와, 젊은, 과학, 지혜, 모을]\n",
              "4  45658  ...   [회색인간, 작가, 김동식, 양심고백, 새, 소설집, 2권, 출간]\n",
              "\n",
              "[5 rows x 5 columns]"
            ]
          },
          "metadata": {
            "tags": []
          },
          "execution_count": 26
        }
      ]
    },
    {
      "cell_type": "markdown",
      "metadata": {
        "id": "nEqWlR20dNLn"
      },
      "source": [
        "어느정도 전처리가 끝났습니다. 이제 키워드를 다시 문장으로 합치고 학습을 진행해보겠습니다."
      ]
    },
    {
      "cell_type": "code",
      "metadata": {
        "id": "ZMs7b5Z4eg30"
      },
      "source": [
        "train['clean_title'] = train['clean'].apply(lambda x: ' '.join(x))\n",
        "test['clean_title'] = test['clean'].apply(lambda x: ' '.join(x))"
      ],
      "execution_count": null,
      "outputs": []
    },
    {
      "cell_type": "code",
      "metadata": {
        "id": "_2BdkgoPb_4z"
      },
      "source": [
        "from sklearn.feature_extraction.text import CountVectorizer, TfidfVectorizer\n",
        "from sklearn.model_selection import train_test_split"
      ],
      "execution_count": null,
      "outputs": []
    },
    {
      "cell_type": "code",
      "metadata": {
        "id": "orhtHHNPjQNy"
      },
      "source": [
        "xtrain, xvalid, ytrain, yvalid = train_test_split(train.clean_title.values, train.topic_idx, \n",
        "                                                  stratify=train.topic_idx, \n",
        "                                                  random_state=42, \n",
        "                                                  test_size=0.1, shuffle=True)"
      ],
      "execution_count": null,
      "outputs": []
    },
    {
      "cell_type": "code",
      "metadata": {
        "id": "Jhbhxy-Le1hZ"
      },
      "source": [
        "cv = CountVectorizer()\n",
        "cv.fit(train.clean_title.tolist())\n",
        "train_cv = cv.transform(xtrain)\n",
        "valid_cv = cv.transform(xvalid)\n",
        "test_cv = cv.transform(test.clean_title.values)"
      ],
      "execution_count": null,
      "outputs": []
    },
    {
      "cell_type": "code",
      "metadata": {
        "id": "GL62OkZffVXH"
      },
      "source": [
        "tfidf = TfidfVectorizer()\n",
        "tfidf.fit(train.clean_title.tolist())\n",
        "train_tfidf = tfidf.transform(xtrain)\n",
        "valid_tfidf = tfidf.transform(xvalid)\n",
        "test_tfidf = tfidf.transform(test.clean_title.values)"
      ],
      "execution_count": null,
      "outputs": []
    },
    {
      "cell_type": "code",
      "metadata": {
        "id": "SQRbXFjYi_Gi"
      },
      "source": [
        "from sklearn.naive_bayes import MultinomialNB"
      ],
      "execution_count": null,
      "outputs": []
    },
    {
      "cell_type": "code",
      "metadata": {
        "id": "UGeHcb5xjKr1"
      },
      "source": [
        "clf = MultinomialNB()\n",
        "clf.fit(train_cv, ytrain)\n",
        "pred = clf.predict_proba(valid_cv)\n",
        "\n",
        "pred_y = np.argmax(pred, axis=1)        "
      ],
      "execution_count": null,
      "outputs": []
    },
    {
      "cell_type": "code",
      "metadata": {
        "colab": {
          "base_uri": "https://localhost:8080/"
        },
        "id": "njE6cOQwjuuS",
        "outputId": "d22656ef-9661-451c-f021-6b2eeb50a301"
      },
      "source": [
        "cnt = 0\n",
        "\n",
        "for i in range(len(pred_y)):\n",
        "    if pred_y[i] == yvalid.values[i]:\n",
        "        cnt += 1\n",
        "print(cnt / len(pred_y))"
      ],
      "execution_count": null,
      "outputs": [
        {
          "output_type": "stream",
          "text": [
            "0.8355234340779676\n"
          ],
          "name": "stdout"
        }
      ]
    },
    {
      "cell_type": "code",
      "metadata": {
        "id": "Aok-Gb0ikXws"
      },
      "source": [
        "clf = MultinomialNB()\n",
        "clf.fit(train_tfidf, ytrain)\n",
        "pred_tf = clf.predict_proba(valid_tfidf)\n",
        "\n",
        "pred_tf_y = np.argmax(pred_tf, axis=1)        "
      ],
      "execution_count": null,
      "outputs": []
    },
    {
      "cell_type": "code",
      "metadata": {
        "colab": {
          "base_uri": "https://localhost:8080/"
        },
        "id": "vF78jFG0kzaM",
        "outputId": "dc1741a4-0666-4f79-eb23-aa30982117fe"
      },
      "source": [
        "cnt = 0\n",
        "\n",
        "for i in range(len(pred_tf_y)):\n",
        "    if pred_tf_y[i] == yvalid.values[i]:\n",
        "        cnt += 1\n",
        "print(cnt / len(pred_tf_y))"
      ],
      "execution_count": null,
      "outputs": [
        {
          "output_type": "stream",
          "text": [
            "0.8289531318440648\n"
          ],
          "name": "stdout"
        }
      ]
    },
    {
      "cell_type": "markdown",
      "metadata": {
        "id": "TazKLA0xmT_6"
      },
      "source": [
        "두 과정 중 CountVectorizer가 좀 더 좋은 성능을 보여주고 있습니다.  \n",
        "\n",
        "이번에는 품사를 원형으로 최대한 바꾸고 학습을 진행해봅시다."
      ]
    },
    {
      "cell_type": "code",
      "metadata": {
        "colab": {
          "base_uri": "https://localhost:8080/",
          "height": 289
        },
        "id": "HcAdZC3enOTr",
        "outputId": "4071bd51-e296-4044-adb6-ced9e7a93bfe"
      },
      "source": [
        "test.head()"
      ],
      "execution_count": null,
      "outputs": [
        {
          "output_type": "execute_result",
          "data": {
            "text/html": [
              "<div>\n",
              "<style scoped>\n",
              "    .dataframe tbody tr th:only-of-type {\n",
              "        vertical-align: middle;\n",
              "    }\n",
              "\n",
              "    .dataframe tbody tr th {\n",
              "        vertical-align: top;\n",
              "    }\n",
              "\n",
              "    .dataframe thead th {\n",
              "        text-align: right;\n",
              "    }\n",
              "</style>\n",
              "<table border=\"1\" class=\"dataframe\">\n",
              "  <thead>\n",
              "    <tr style=\"text-align: right;\">\n",
              "      <th></th>\n",
              "      <th>index</th>\n",
              "      <th>title</th>\n",
              "      <th>pre</th>\n",
              "      <th>tokenize</th>\n",
              "      <th>clean</th>\n",
              "      <th>clean_title</th>\n",
              "    </tr>\n",
              "  </thead>\n",
              "  <tbody>\n",
              "    <tr>\n",
              "      <th>0</th>\n",
              "      <td>45654</td>\n",
              "      <td>유튜브 내달 2일까지 크리에이터 지원 공간 운영</td>\n",
              "      <td>유튜브 내달 2일까지 크리에이터 지원 공간 운영</td>\n",
              "      <td>[유튜브, 내달, 2일까지, 크리, 에이터, 지원, 공간, 운영]</td>\n",
              "      <td>[유튜브, 내달, 2일까지, 크리, 에이터, 지원, 공간, 운영]</td>\n",
              "      <td>유튜브 내달 2일까지 크리 에이터 지원 공간 운영</td>\n",
              "    </tr>\n",
              "    <tr>\n",
              "      <th>1</th>\n",
              "      <td>45655</td>\n",
              "      <td>어버이날 맑다가 흐려져…남부지방 옅은 황사</td>\n",
              "      <td>어버이날 맑다가 흐려져 남부지방 옅은 황사</td>\n",
              "      <td>[어버이날, 맑다가, 흐려, 져, 남부지방, 옅은, 황사]</td>\n",
              "      <td>[어버이날, 맑다가, 흐려, 져, 남부지방, 옅은, 황사]</td>\n",
              "      <td>어버이날 맑다가 흐려 져 남부지방 옅은 황사</td>\n",
              "    </tr>\n",
              "    <tr>\n",
              "      <th>2</th>\n",
              "      <td>45656</td>\n",
              "      <td>내년부터 국가RD 평가 때 논문건수는 반영 않는다</td>\n",
              "      <td>내년부터 국가RD 평가 때 논문건수는 반영 않는다</td>\n",
              "      <td>[내년부터, 국가, RD, 평가, 때, 논문건수는, 반영, 않는다]</td>\n",
              "      <td>[내년부터, 국가, RD, 평가, 논문건수는, 반영, 않는다]</td>\n",
              "      <td>내년부터 국가 RD 평가 논문건수는 반영 않는다</td>\n",
              "    </tr>\n",
              "    <tr>\n",
              "      <th>3</th>\n",
              "      <td>45657</td>\n",
              "      <td>김명자 신임 과총 회장 원로와 젊은 과학자 지혜 모을 것</td>\n",
              "      <td>김명자 신임 과총 회장 원로와 젊은 과학자 지혜 모을 것</td>\n",
              "      <td>[김명자, 신임, 과총, 회장, 원로와, 젊은, 과학, 자, 지혜, 모을, 것]</td>\n",
              "      <td>[김명자, 신임, 과총, 회장, 원로와, 젊은, 과학, 지혜, 모을]</td>\n",
              "      <td>김명자 신임 과총 회장 원로와 젊은 과학 지혜 모을</td>\n",
              "    </tr>\n",
              "    <tr>\n",
              "      <th>4</th>\n",
              "      <td>45658</td>\n",
              "      <td>회색인간 작가 김동식 양심고백 등 새 소설집 2권 출간</td>\n",
              "      <td>회색인간 작가 김동식 양심고백 등 새 소설집 2권 출간</td>\n",
              "      <td>[회색인간, 작가, 김동식, 양심고백, 등, 새, 소설집, 2권, 출간]</td>\n",
              "      <td>[회색인간, 작가, 김동식, 양심고백, 새, 소설집, 2권, 출간]</td>\n",
              "      <td>회색인간 작가 김동식 양심고백 새 소설집 2권 출간</td>\n",
              "    </tr>\n",
              "  </tbody>\n",
              "</table>\n",
              "</div>"
            ],
            "text/plain": [
              "   index  ...                   clean_title\n",
              "0  45654  ...   유튜브 내달 2일까지 크리 에이터 지원 공간 운영\n",
              "1  45655  ...      어버이날 맑다가 흐려 져 남부지방 옅은 황사\n",
              "2  45656  ...    내년부터 국가 RD 평가 논문건수는 반영 않는다\n",
              "3  45657  ...  김명자 신임 과총 회장 원로와 젊은 과학 지혜 모을\n",
              "4  45658  ...  회색인간 작가 김동식 양심고백 새 소설집 2권 출간\n",
              "\n",
              "[5 rows x 6 columns]"
            ]
          },
          "metadata": {
            "tags": []
          },
          "execution_count": 37
        }
      ]
    },
    {
      "cell_type": "code",
      "metadata": {
        "id": "hI6ff1eMnt48"
      },
      "source": [
        "okt = Okt()\n",
        "\n",
        "tmp = []\n",
        "\n",
        "for item in train.clean_title:\n",
        "    tmp.append(okt.morphs(item, stem=True))\n",
        "\n",
        "train['clean_stem'] = tmp"
      ],
      "execution_count": null,
      "outputs": []
    },
    {
      "cell_type": "code",
      "metadata": {
        "id": "agY3LB2Mn9kb"
      },
      "source": [
        "tmp = []\n",
        "\n",
        "for item in test.clean_title:\n",
        "    tmp.append(okt.morphs(item, stem=True))\n",
        "\n",
        "test['clean_stem'] = tmp"
      ],
      "execution_count": null,
      "outputs": []
    },
    {
      "cell_type": "code",
      "metadata": {
        "id": "nPjL_8rRpWKv"
      },
      "source": [
        "train = train.rename(columns={'clean_title_stem': 'clean_stem'})\n",
        "test = test.rename(columns={'clean_title_stem': 'clean_stem'})"
      ],
      "execution_count": null,
      "outputs": []
    },
    {
      "cell_type": "code",
      "metadata": {
        "colab": {
          "base_uri": "https://localhost:8080/",
          "height": 340
        },
        "id": "Ij3SM795qskQ",
        "outputId": "f78e353d-bc9b-4a32-d9fc-6f79fd737c25"
      },
      "source": [
        "train.head()"
      ],
      "execution_count": null,
      "outputs": [
        {
          "output_type": "execute_result",
          "data": {
            "text/html": [
              "<div>\n",
              "<style scoped>\n",
              "    .dataframe tbody tr th:only-of-type {\n",
              "        vertical-align: middle;\n",
              "    }\n",
              "\n",
              "    .dataframe tbody tr th {\n",
              "        vertical-align: top;\n",
              "    }\n",
              "\n",
              "    .dataframe thead th {\n",
              "        text-align: right;\n",
              "    }\n",
              "</style>\n",
              "<table border=\"1\" class=\"dataframe\">\n",
              "  <thead>\n",
              "    <tr style=\"text-align: right;\">\n",
              "      <th></th>\n",
              "      <th>index</th>\n",
              "      <th>title</th>\n",
              "      <th>topic_idx</th>\n",
              "      <th>pre</th>\n",
              "      <th>tokenize</th>\n",
              "      <th>clean</th>\n",
              "      <th>clean_title</th>\n",
              "      <th>clean_stem</th>\n",
              "    </tr>\n",
              "  </thead>\n",
              "  <tbody>\n",
              "    <tr>\n",
              "      <th>0</th>\n",
              "      <td>0</td>\n",
              "      <td>인천→핀란드 항공기 결항…휴가철 여행객 분통</td>\n",
              "      <td>4</td>\n",
              "      <td>인천 핀란드 항공기 결항 휴가철 여행객 분통</td>\n",
              "      <td>[인천, 핀란드, 항공, 기, 결항, 휴가철, 여행, 객, 분통]</td>\n",
              "      <td>[인천, 핀란드, 항공, 기, 결항, 휴가철, 여행, 객, 분통]</td>\n",
              "      <td>인천 핀란드 항공 기 결항 휴가철 여행 객 분통</td>\n",
              "      <td>[인천, 핀란드, 항공, 기, 결항, 휴가, 철, 여행, 객, 분통]</td>\n",
              "    </tr>\n",
              "    <tr>\n",
              "      <th>1</th>\n",
              "      <td>1</td>\n",
              "      <td>실리콘밸리 넘어서겠다…구글 15조원 들여 美전역 거점화</td>\n",
              "      <td>4</td>\n",
              "      <td>실리콘밸리 넘어서겠다 구글 15조원 들여 美전역 거점화</td>\n",
              "      <td>[실리콘밸리, 넘어, 서겠다, 구글, 15, 조원, 들여, 美전역, 거점화]</td>\n",
              "      <td>[실리콘밸리, 넘어, 서겠다, 구글, 15, 조원, 들여, 美전역, 거점화]</td>\n",
              "      <td>실리콘밸리 넘어 서겠다 구글 15 조원 들여 美전역 거점화</td>\n",
              "      <td>[실리콘밸리, 넘다, 서다, 구글, 15, 조원, 들이다, 美, 전역, 거점, 화]</td>\n",
              "    </tr>\n",
              "    <tr>\n",
              "      <th>2</th>\n",
              "      <td>2</td>\n",
              "      <td>이란 외무 긴장완화 해결책은 미국이 경제전쟁 멈추는 것</td>\n",
              "      <td>4</td>\n",
              "      <td>이란 외무 긴장완화 해결책은 미국이 경제전쟁 멈추는 것</td>\n",
              "      <td>[이란, 외무, 긴장, 완화, 해결, 책은, 미국, 이, 경제, 전쟁, 멈추, 는, 것]</td>\n",
              "      <td>[이란, 외무, 긴장, 완화, 해결, 책은, 미국, 경제, 전쟁, 멈추, 는]</td>\n",
              "      <td>이란 외무 긴장 완화 해결 책은 미국 경제 전쟁 멈추 는</td>\n",
              "      <td>[이란, 외무, 긴장, 완화, 해결, 책, 은, 미국, 경제, 전쟁, 멈추다, 늘다]</td>\n",
              "    </tr>\n",
              "    <tr>\n",
              "      <th>3</th>\n",
              "      <td>3</td>\n",
              "      <td>NYT 클린턴 측근韓기업 특수관계 조명…공과 사 맞물려종합</td>\n",
              "      <td>4</td>\n",
              "      <td>NYT 클린턴 측근韓기업 특수관계 조명 공과 사 맞물려종합</td>\n",
              "      <td>[NYT, 클린턴, 측근, 韓기업, 특수, 관계, 조명, 공과, 사, 맞물려종합]</td>\n",
              "      <td>[NYT, 클린턴, 측근, 韓기업, 특수, 관계, 조명, 공과, 맞물려종합]</td>\n",
              "      <td>NYT 클린턴 측근 韓기업 특수 관계 조명 공과 맞물려종합</td>\n",
              "      <td>[NYT, 클린턴, 측근, 韓, 기업, 특수, 관계, 조명, 공과, 맞다, 물리다,...</td>\n",
              "    </tr>\n",
              "    <tr>\n",
              "      <th>4</th>\n",
              "      <td>4</td>\n",
              "      <td>시진핑 트럼프에 중미 무역협상 조속 타결 희망</td>\n",
              "      <td>4</td>\n",
              "      <td>시진핑 트럼프에 중미 무역협상 조속 타결 희망</td>\n",
              "      <td>[시진핑, 트럼프, 에, 중미, 무역협상, 조속, 타결, 희망]</td>\n",
              "      <td>[시진핑, 트럼프, 중미, 무역협상, 조속, 타결, 희망]</td>\n",
              "      <td>시진핑 트럼프 중미 무역협상 조속 타결 희망</td>\n",
              "      <td>[시진핑, 트럼프, 중미, 무역, 협상, 조속, 타결, 희망]</td>\n",
              "    </tr>\n",
              "  </tbody>\n",
              "</table>\n",
              "</div>"
            ],
            "text/plain": [
              "   index  ...                                         clean_stem\n",
              "0      0  ...             [인천, 핀란드, 항공, 기, 결항, 휴가, 철, 여행, 객, 분통]\n",
              "1      1  ...     [실리콘밸리, 넘다, 서다, 구글, 15, 조원, 들이다, 美, 전역, 거점, 화]\n",
              "2      2  ...    [이란, 외무, 긴장, 완화, 해결, 책, 은, 미국, 경제, 전쟁, 멈추다, 늘다]\n",
              "3      3  ...  [NYT, 클린턴, 측근, 韓, 기업, 특수, 관계, 조명, 공과, 맞다, 물리다,...\n",
              "4      4  ...                 [시진핑, 트럼프, 중미, 무역, 협상, 조속, 타결, 희망]\n",
              "\n",
              "[5 rows x 8 columns]"
            ]
          },
          "metadata": {
            "tags": []
          },
          "execution_count": 42
        }
      ]
    },
    {
      "cell_type": "code",
      "metadata": {
        "id": "wpoQ5RtQLfGF"
      },
      "source": [
        "def nouns(data):\n",
        "    tmp = []\n",
        "    \n",
        "    for sent in api.analyze(data):\n",
        "        for w in sent.morphs:\n",
        "            if 'N' in w.tag:\n",
        "                tmp.append(w.lex)\n",
        "    return tmp"
      ],
      "execution_count": null,
      "outputs": []
    },
    {
      "cell_type": "code",
      "metadata": {
        "colab": {
          "base_uri": "https://localhost:8080/",
          "height": 358
        },
        "id": "EsCCI1VoLk2i",
        "outputId": "753f8496-27a0-483c-9500-79bcb3f65999"
      },
      "source": [
        "train['nouns'] = train.title.apply(lambda x: nouns(x))\n",
        "test['nouns'] = test.title.apply(lambda x: nouns(x))"
      ],
      "execution_count": null,
      "outputs": [
        {
          "output_type": "error",
          "ename": "NameError",
          "evalue": "ignored",
          "traceback": [
            "\u001b[0;31m---------------------------------------------------------------------------\u001b[0m",
            "\u001b[0;31mNameError\u001b[0m                                 Traceback (most recent call last)",
            "\u001b[0;32m<ipython-input-54-48601ee48fc3>\u001b[0m in \u001b[0;36m<module>\u001b[0;34m()\u001b[0m\n\u001b[0;32m----> 1\u001b[0;31m \u001b[0mtrain\u001b[0m\u001b[0;34m[\u001b[0m\u001b[0;34m'nouns'\u001b[0m\u001b[0;34m]\u001b[0m \u001b[0;34m=\u001b[0m \u001b[0mtrain\u001b[0m\u001b[0;34m.\u001b[0m\u001b[0mtitle\u001b[0m\u001b[0;34m.\u001b[0m\u001b[0mapply\u001b[0m\u001b[0;34m(\u001b[0m\u001b[0;32mlambda\u001b[0m \u001b[0mx\u001b[0m\u001b[0;34m:\u001b[0m \u001b[0mnouns\u001b[0m\u001b[0;34m(\u001b[0m\u001b[0mx\u001b[0m\u001b[0;34m)\u001b[0m\u001b[0;34m)\u001b[0m\u001b[0;34m\u001b[0m\u001b[0;34m\u001b[0m\u001b[0m\n\u001b[0m\u001b[1;32m      2\u001b[0m \u001b[0mtest\u001b[0m\u001b[0;34m[\u001b[0m\u001b[0;34m'nouns'\u001b[0m\u001b[0;34m]\u001b[0m \u001b[0;34m=\u001b[0m \u001b[0mtest\u001b[0m\u001b[0;34m.\u001b[0m\u001b[0mtitle\u001b[0m\u001b[0;34m.\u001b[0m\u001b[0mapply\u001b[0m\u001b[0;34m(\u001b[0m\u001b[0;32mlambda\u001b[0m \u001b[0mx\u001b[0m\u001b[0;34m:\u001b[0m \u001b[0mnouns\u001b[0m\u001b[0;34m(\u001b[0m\u001b[0mx\u001b[0m\u001b[0;34m)\u001b[0m\u001b[0;34m)\u001b[0m\u001b[0;34m\u001b[0m\u001b[0;34m\u001b[0m\u001b[0m\n",
            "\u001b[0;32m/usr/local/lib/python3.7/dist-packages/pandas/core/series.py\u001b[0m in \u001b[0;36mapply\u001b[0;34m(self, func, convert_dtype, args, **kwds)\u001b[0m\n\u001b[1;32m   4211\u001b[0m             \u001b[0;32melse\u001b[0m\u001b[0;34m:\u001b[0m\u001b[0;34m\u001b[0m\u001b[0;34m\u001b[0m\u001b[0m\n\u001b[1;32m   4212\u001b[0m                 \u001b[0mvalues\u001b[0m \u001b[0;34m=\u001b[0m \u001b[0mself\u001b[0m\u001b[0;34m.\u001b[0m\u001b[0mastype\u001b[0m\u001b[0;34m(\u001b[0m\u001b[0mobject\u001b[0m\u001b[0;34m)\u001b[0m\u001b[0;34m.\u001b[0m\u001b[0m_values\u001b[0m\u001b[0;34m\u001b[0m\u001b[0;34m\u001b[0m\u001b[0m\n\u001b[0;32m-> 4213\u001b[0;31m                 \u001b[0mmapped\u001b[0m \u001b[0;34m=\u001b[0m \u001b[0mlib\u001b[0m\u001b[0;34m.\u001b[0m\u001b[0mmap_infer\u001b[0m\u001b[0;34m(\u001b[0m\u001b[0mvalues\u001b[0m\u001b[0;34m,\u001b[0m \u001b[0mf\u001b[0m\u001b[0;34m,\u001b[0m \u001b[0mconvert\u001b[0m\u001b[0;34m=\u001b[0m\u001b[0mconvert_dtype\u001b[0m\u001b[0;34m)\u001b[0m\u001b[0;34m\u001b[0m\u001b[0;34m\u001b[0m\u001b[0m\n\u001b[0m\u001b[1;32m   4214\u001b[0m \u001b[0;34m\u001b[0m\u001b[0m\n\u001b[1;32m   4215\u001b[0m         \u001b[0;32mif\u001b[0m \u001b[0mlen\u001b[0m\u001b[0;34m(\u001b[0m\u001b[0mmapped\u001b[0m\u001b[0;34m)\u001b[0m \u001b[0;32mand\u001b[0m \u001b[0misinstance\u001b[0m\u001b[0;34m(\u001b[0m\u001b[0mmapped\u001b[0m\u001b[0;34m[\u001b[0m\u001b[0;36m0\u001b[0m\u001b[0;34m]\u001b[0m\u001b[0;34m,\u001b[0m \u001b[0mSeries\u001b[0m\u001b[0;34m)\u001b[0m\u001b[0;34m:\u001b[0m\u001b[0;34m\u001b[0m\u001b[0;34m\u001b[0m\u001b[0m\n",
            "\u001b[0;32mpandas/_libs/lib.pyx\u001b[0m in \u001b[0;36mpandas._libs.lib.map_infer\u001b[0;34m()\u001b[0m\n",
            "\u001b[0;32m<ipython-input-54-48601ee48fc3>\u001b[0m in \u001b[0;36m<lambda>\u001b[0;34m(x)\u001b[0m\n\u001b[0;32m----> 1\u001b[0;31m \u001b[0mtrain\u001b[0m\u001b[0;34m[\u001b[0m\u001b[0;34m'nouns'\u001b[0m\u001b[0;34m]\u001b[0m \u001b[0;34m=\u001b[0m \u001b[0mtrain\u001b[0m\u001b[0;34m.\u001b[0m\u001b[0mtitle\u001b[0m\u001b[0;34m.\u001b[0m\u001b[0mapply\u001b[0m\u001b[0;34m(\u001b[0m\u001b[0;32mlambda\u001b[0m \u001b[0mx\u001b[0m\u001b[0;34m:\u001b[0m \u001b[0mnouns\u001b[0m\u001b[0;34m(\u001b[0m\u001b[0mx\u001b[0m\u001b[0;34m)\u001b[0m\u001b[0;34m)\u001b[0m\u001b[0;34m\u001b[0m\u001b[0;34m\u001b[0m\u001b[0m\n\u001b[0m\u001b[1;32m      2\u001b[0m \u001b[0mtest\u001b[0m\u001b[0;34m[\u001b[0m\u001b[0;34m'nouns'\u001b[0m\u001b[0;34m]\u001b[0m \u001b[0;34m=\u001b[0m \u001b[0mtest\u001b[0m\u001b[0;34m.\u001b[0m\u001b[0mtitle\u001b[0m\u001b[0;34m.\u001b[0m\u001b[0mapply\u001b[0m\u001b[0;34m(\u001b[0m\u001b[0;32mlambda\u001b[0m \u001b[0mx\u001b[0m\u001b[0;34m:\u001b[0m \u001b[0mnouns\u001b[0m\u001b[0;34m(\u001b[0m\u001b[0mx\u001b[0m\u001b[0;34m)\u001b[0m\u001b[0;34m)\u001b[0m\u001b[0;34m\u001b[0m\u001b[0;34m\u001b[0m\u001b[0m\n",
            "\u001b[0;32m<ipython-input-53-d38c90714ed6>\u001b[0m in \u001b[0;36mnouns\u001b[0;34m(data)\u001b[0m\n\u001b[1;32m      2\u001b[0m     \u001b[0mtmp\u001b[0m \u001b[0;34m=\u001b[0m \u001b[0;34m[\u001b[0m\u001b[0;34m]\u001b[0m\u001b[0;34m\u001b[0m\u001b[0;34m\u001b[0m\u001b[0m\n\u001b[1;32m      3\u001b[0m \u001b[0;34m\u001b[0m\u001b[0m\n\u001b[0;32m----> 4\u001b[0;31m     \u001b[0;32mfor\u001b[0m \u001b[0msent\u001b[0m \u001b[0;32min\u001b[0m \u001b[0mapi\u001b[0m\u001b[0;34m.\u001b[0m\u001b[0manalyze\u001b[0m\u001b[0;34m(\u001b[0m\u001b[0mdata\u001b[0m\u001b[0;34m)\u001b[0m\u001b[0;34m:\u001b[0m\u001b[0;34m\u001b[0m\u001b[0;34m\u001b[0m\u001b[0m\n\u001b[0m\u001b[1;32m      5\u001b[0m         \u001b[0;32mfor\u001b[0m \u001b[0mw\u001b[0m \u001b[0;32min\u001b[0m \u001b[0msent\u001b[0m\u001b[0;34m.\u001b[0m\u001b[0mmorphs\u001b[0m\u001b[0;34m:\u001b[0m\u001b[0;34m\u001b[0m\u001b[0;34m\u001b[0m\u001b[0m\n\u001b[1;32m      6\u001b[0m             \u001b[0;32mif\u001b[0m \u001b[0;34m'N'\u001b[0m \u001b[0;32min\u001b[0m \u001b[0mw\u001b[0m\u001b[0;34m.\u001b[0m\u001b[0mtag\u001b[0m\u001b[0;34m:\u001b[0m\u001b[0;34m\u001b[0m\u001b[0;34m\u001b[0m\u001b[0m\n",
            "\u001b[0;31mNameError\u001b[0m: name 'api' is not defined"
          ]
        }
      ]
    },
    {
      "cell_type": "code",
      "metadata": {
        "id": "A9p40AEbovdn"
      },
      "source": [
        "train['clean_title_stem'] = train['clean_stem'].apply(lambda x: ' '.join(x))\n",
        "test['clean_title_stem'] = test['clean_stem'].apply(lambda x: ' '.join(x))"
      ],
      "execution_count": null,
      "outputs": []
    },
    {
      "cell_type": "code",
      "metadata": {
        "id": "Bw86y8Gfl5we"
      },
      "source": [
        "xtrain, xvalid, ytrain, yvalid = train_test_split(train.clean_title_stem.values, train.topic_idx, \n",
        "                                                  stratify=train.topic_idx, \n",
        "                                                  random_state=42, \n",
        "                                                  test_size=0.1, shuffle=True)"
      ],
      "execution_count": null,
      "outputs": []
    },
    {
      "cell_type": "code",
      "metadata": {
        "id": "MbEUN5Kkoevo"
      },
      "source": [
        "cv = CountVectorizer()\n",
        "cv.fit(train.clean_title_stem.tolist())\n",
        "train_cv = cv.transform(xtrain)\n",
        "valid_cv = cv.transform(xvalid)\n",
        "test_cv = cv.transform(test.clean_title_stem.values)"
      ],
      "execution_count": null,
      "outputs": []
    },
    {
      "cell_type": "code",
      "metadata": {
        "id": "3FGw_aGCofHs"
      },
      "source": [
        "tfidf = TfidfVectorizer()\n",
        "tfidf.fit(train.clean_title_stem.tolist())\n",
        "train_tfidf = tfidf.transform(xtrain)\n",
        "valid_tfidf = tfidf.transform(xvalid)\n",
        "test_tfidf = tfidf.transform(test.clean_title_stem.values)"
      ],
      "execution_count": null,
      "outputs": []
    },
    {
      "cell_type": "code",
      "metadata": {
        "id": "xvoXOSiJofVM"
      },
      "source": [
        "clf = MultinomialNB()\n",
        "clf.fit(train_cv, ytrain)\n",
        "pred = clf.predict_proba(valid_cv)\n",
        "\n",
        "pred_y = np.argmax(pred, axis=1)        "
      ],
      "execution_count": null,
      "outputs": []
    },
    {
      "cell_type": "code",
      "metadata": {
        "colab": {
          "base_uri": "https://localhost:8080/"
        },
        "id": "yZYijWUmpoFp",
        "outputId": "df9a0d18-a9dd-4559-bc37-4d311c98d2d6"
      },
      "source": [
        "cnt = 0\n",
        "\n",
        "for i in range(len(pred_y)):\n",
        "    if pred_y[i] == yvalid.values[i]:\n",
        "        cnt += 1\n",
        "print(cnt / len(pred_y))"
      ],
      "execution_count": null,
      "outputs": [
        {
          "output_type": "stream",
          "text": [
            "0.835742444152431\n"
          ],
          "name": "stdout"
        }
      ]
    },
    {
      "cell_type": "code",
      "metadata": {
        "id": "D5bgdJnqofnD"
      },
      "source": [
        "clf = MultinomialNB()\n",
        "clf.fit(train_tfidf, ytrain)\n",
        "pred_tf = clf.predict_proba(valid_tfidf)\n",
        "\n",
        "pred_tf_y = np.argmax(pred_tf, axis=1)        "
      ],
      "execution_count": null,
      "outputs": []
    },
    {
      "cell_type": "code",
      "metadata": {
        "colab": {
          "base_uri": "https://localhost:8080/"
        },
        "id": "rWd2oySAppmx",
        "outputId": "145df270-bbf8-48a9-dd48-8d42265c70d7"
      },
      "source": [
        "cnt = 0\n",
        "\n",
        "for i in range(len(pred_tf_y)):\n",
        "    if pred_tf_y[i] == yvalid.values[i]:\n",
        "        cnt += 1\n",
        "print(cnt / len(pred_tf_y))"
      ],
      "execution_count": null,
      "outputs": [
        {
          "output_type": "stream",
          "text": [
            "0.8309242225142357\n"
          ],
          "name": "stdout"
        }
      ]
    },
    {
      "cell_type": "code",
      "metadata": {
        "id": "9B7SDvszk3ty"
      },
      "source": [
        "pred = clf.predict_proba(test_cv)\n",
        "\n",
        "y = np.argmax(pred, axis=1)"
      ],
      "execution_count": null,
      "outputs": []
    },
    {
      "cell_type": "code",
      "metadata": {
        "id": "geo8KHTmlCbW"
      },
      "source": [
        "sample = pd.read_csv(path+'sample_submission.csv')\n",
        "sample.topic_idx = y\n",
        "\n",
        "sample.to_csv(path+'submission_nb_tfidf.csv', index=False)"
      ],
      "execution_count": null,
      "outputs": []
    }
  ]
}